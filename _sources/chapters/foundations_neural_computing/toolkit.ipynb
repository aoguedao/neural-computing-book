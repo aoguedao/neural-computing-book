{
 "cells": [
  {
   "attachments": {},
   "cell_type": "markdown",
   "metadata": {},
   "source": [
    "# Toolkit"
   ]
  },
  {
   "attachments": {},
   "cell_type": "markdown",
   "metadata": {},
   "source": [
    "## What is Data Science?"
   ]
  },
  {
   "attachments": {},
   "cell_type": "markdown",
   "metadata": {},
   "source": [
    "The term _data scientist_ was coined as recently as 2008 when companies realized the need for data professionals who are skilled in organizing and analyzing massive amounts of data. In a 2009 McKinsey&Company article, Hal Varian, Google’s chief economist and UC Berkeley professor of information sciences, business, and economics, predicted the importance of adapting to technology’s influence and reconfiguration of different industries.\n",
    "\n",
    "-- <cite>[UC Berkeley School of Information Online](https://ischoolonline.berkeley.edu/data-science/what-is-data-science/#fn1b)</cite> --\n",
    "\n",
    "\n",
    "_Data science_ is the study of data to extract meaningful insights for business. It is a multidisciplinary approach that combines principles and practices from the fields of mathematics, statistics, artificial intelligence, and computer engineering to analyze large amounts of data. This analysis helps data scientists to ask and answer questions like what happened, why it happened, what will happen, and what can be done with the results.\n",
    "\n",
    "--<cite> [Amazon Web Services](https://aws.amazon.com/what-is/data-science/) </cite>--\n",
    "\n",
    "\n",
    "Data science combines math and statistics, specialized programming, advanced analytics, artificial intelligence (AI), and machine learning with specific subject matter expertise to uncover actionable insights hidden in an organization’s data. These insights can be used to guide decision making and strategic planning.\n",
    "\n",
    "--<cite> [IBM](https://www.ibm.com/topics/data-science) </cite>--\n",
    "\n"
   ]
  },
  {
   "attachments": {},
   "cell_type": "markdown",
   "metadata": {},
   "source": [
    "\n",
    "> Data Scientist: The Sexiest Job of the 21st Century\n",
    ">\n",
    "> --<cite> [Harvard Business Review - 2012](https://hbr.org/2012/10/data-scientist-the-sexiest-job-of-the-21st-century) </cite>--\n",
    "\n"
   ]
  },
  {
   "attachments": {},
   "cell_type": "markdown",
   "metadata": {},
   "source": [
    "```{caution}\n",
    "[Is Data Scientist Still the Sexiest Job of the 21st Century? - Harvard Business Review - 2022](https://hbr.org/2022/07/is-data-scientist-still-the-sexiest-job-of-the-21st-century)\n",
    "```"
   ]
  },
  {
   "attachments": {},
   "cell_type": "markdown",
   "metadata": {},
   "source": [
    "## Operating System"
   ]
  },
  {
   "attachments": {},
   "cell_type": "markdown",
   "metadata": {},
   "source": [
    "An operating system (OS) is system software that manages computer hardware and software resources, and provides common services for computer programs. - [Wikipedia](https://en.wikipedia.org/wiki/Operating_system)\n",
    "\n"
   ]
  },
  {
   "attachments": {},
   "cell_type": "markdown",
   "metadata": {},
   "source": [
    "```{admonition} What operating system should I use for data science?\n",
    ":class: note, dropdown\n",
    "For now it doesn't matter.\n",
    "\n",
    "BUT, in general, servers and cloud services use Linux as operating system.\n",
    "```"
   ]
  },
  {
   "attachments": {},
   "cell_type": "markdown",
   "metadata": {},
   "source": [
    "## Python"
   ]
  },
  {
   "attachments": {},
   "cell_type": "markdown",
   "metadata": {},
   "source": [
    "> Python is powerful... and fast;  \n",
    "> plays well with others;  \n",
    "> runs everywhere;  \n",
    "> is friendly & easy to learn;  \n",
    "> is Open.\n",
    ">\n",
    "> https://www.python.org/about/"
   ]
  },
  {
   "attachments": {},
   "cell_type": "markdown",
   "metadata": {},
   "source": [
    "Python is a high-level, interpreted programming language that was first released in 1991. It was designed to be easy to read and write, with a simple and consistent syntax that emphasizes readability and reduces the cost of program maintenance. It is a general-purpose language that can be used for a wide variety of tasks, including web development, data analysis, scientific computing, artificial intelligence, and more.\n",
    "\n",
    "Python's popularity is due to several factors. Firstly, it has a large and active community of developers who contribute to its development, provide support, and create libraries and tools for various applications. This community has helped to make Python one of the most widely used programming languages in the world.\n",
    "\n",
    "Secondly, Python's simplicity and readability make it a great language for beginners and experienced programmers alike. It is easy to learn and use, and it allows developers to focus on solving problems rather than worrying about syntax and technical details.\n",
    "\n",
    "Thirdly, Python has a vast ecosystem of libraries and frameworks that can be used for a wide range of applications. These libraries and frameworks provide developers with a wide range of tools and features that can help them develop complex applications quickly and efficiently.\n",
    "\n",
    "Finally, Python's versatility and flexibility make it an ideal language for a wide range of applications, from scientific computing to web development to data analysis and beyond. Its ease of use, strong community, and wide range of applications make Python one of the most popular programming languages in the world.\n",
    "\n",
    "Sources:\n",
    "- https://github.blog/2023-03-02-why-python-keeps-growing-explained\n",
    "- https://octoverse.github.com/2022/top-programming-languages\n",
    "- https://survey.stackoverflow.co/2022/"
   ]
  },
  {
   "attachments": {},
   "cell_type": "markdown",
   "metadata": {},
   "source": [
    "## Virtual Environments"
   ]
  },
  {
   "attachments": {},
   "cell_type": "markdown",
   "metadata": {},
   "source": [
    "A virtual environment is a tool that allows users to create an isolated and self-contained environment on their computer, where they can install and run software without affecting their system's global settings or other installed software.\n",
    "\n",
    "In non-technical terms, a virtual environment is like a \"sandbox\" on your computer, where you can experiment with different software and tools without worrying about accidentally breaking anything on your computer.\n",
    "\n",
    "Alternatives:\n",
    "\n",
    "* Conda / Anaconda / Mamba / Micromamba\n",
    "* `pip` + `virtualenv`\n",
    "* `Docker`\n",
    "\n",
    "Don't worry, we won't use virtual environments in these lessons but it is good to know their existence."
   ]
  },
  {
   "attachments": {},
   "cell_type": "markdown",
   "metadata": {},
   "source": [
    "## Project Jupyter"
   ]
  },
  {
   "attachments": {},
   "cell_type": "markdown",
   "metadata": {},
   "source": [
    ">Free software, open standards, and web services for interactive computing across all programming languages. \n",
    "\n",
    "Project Jupyter is a non-profit, open-source project, born out of the IPython Project in 2014 as it evolved to support interactive data science and scientific computing across all programming languages. Jupyter will always be 100% open-source software, free for all to use and released under the liberal terms of the modified BSD license.\n",
    "\n",
    "https://jupyter.org/about"
   ]
  },
  {
   "attachments": {},
   "cell_type": "markdown",
   "metadata": {},
   "source": [
    "### Jupyter Notebooks"
   ]
  },
  {
   "attachments": {},
   "cell_type": "markdown",
   "metadata": {},
   "source": [
    "The notebook extends the console-based approach to interactive computing in a qualitatively new direction, providing a web-based application suitable for capturing the whole computation process: developing, documenting, and executing code, as well as communicating the results. The Jupyter notebook combines two components:\n",
    "\n",
    "A web application: a browser-based tool for interactive authoring of documents which combine explanatory text, mathematics, computations and their rich media output.\n",
    "\n",
    "Notebook documents: a representation of all content visible in the web application, including inputs and outputs of the computations, explanatory text, mathematics, images, and rich media representations of objects.\n",
    "\n",
    "In non-technical terms, Jupyter Notebooks are like a digital notebooks that lets you write code, view results, and explain your thought process all in one place. You can use it to write programs in popular programming languages like Python, R, and Julia, and see the output of your code immediately in the notebook.\n",
    "\n",
    "https://jupyter-notebook.readthedocs.io/en/latest/notebook.html#introduction\n",
    "\n",
    "![JupyterNotebook](https://jupyter.org/assets/homepage/jupyterpreview.webp)"
   ]
  },
  {
   "attachments": {},
   "cell_type": "markdown",
   "metadata": {},
   "source": [
    "### Jupyter Lab"
   ]
  },
  {
   "attachments": {},
   "cell_type": "markdown",
   "metadata": {},
   "source": [
    "JupyterLab is the latest web-based interactive development environment for notebooks, code, and data. Its flexible interface allows users to configure and arrange workflows in data science, scientific computing, computational journalism, and machine learning. A modular design invites extensions to expand and enrich functionality.\n",
    "\n",
    "![JupyterLab](https://jupyter.org/assets/homepage/labpreview.webp)"
   ]
  },
  {
   "attachments": {},
   "cell_type": "markdown",
   "metadata": {},
   "source": [
    "### Jupyter Book"
   ]
  },
  {
   "attachments": {},
   "cell_type": "markdown",
   "metadata": {},
   "source": [
    "> Build beautiful, publication-quality books and documents from computational content.\n",
    "> \n",
    "> https://jupyterbook.org/\n",
    "\n",
    "Jupyter Book is an open-source tool for building publication-quality books and documents from computational material.\n",
    "\n",
    "Jupyter Book allows users to\n",
    "\n",
    "* write their content in [markdown files](https://myst-parser.readthedocs.io/en/latest/) or [Jupyter](https://jupyter.org/) notebooks,\n",
    "* include computational elements (e.g., code cells) in either type,\n",
    "* include rich syntax such as citations, cross-references, and numbered equations, and\n",
    "* using a simple command, run the embedded code cells, [cache](https://jupyter-cache.readthedocs.io/en/latest/) the outputs and convert this content into:\n",
    "    * a web-based interactive book and\n",
    "    * a publication-quality PDF.\n",
    "\n",
    "https://github.com/executablebooks/jupyter-book"
   ]
  },
  {
   "attachments": {},
   "cell_type": "markdown",
   "metadata": {},
   "source": [
    "```{admonition} Fun fact\n",
    "\n",
    "This website is made with Jupyter Book!\n",
    "```"
   ]
  },
  {
   "attachments": {},
   "cell_type": "markdown",
   "metadata": {},
   "source": [
    "### Google Colab"
   ]
  },
  {
   "attachments": {},
   "cell_type": "markdown",
   "metadata": {},
   "source": [
    "Colaboratory, or “Colab” for short, is a product from Google Research. Colab allows anybody to write and execute arbitrary python code through the browser, and is especially well suited to machine learning, data analysis and education. More technically, Colab is a hosted Jupyter notebook service that requires no setup to use, while providing access free of charge to computing resources including GPUs.\n",
    "\n",
    "https://research.google.com/colaboratory/faq.html"
   ]
  },
  {
   "attachments": {},
   "cell_type": "markdown",
   "metadata": {},
   "source": [
    "```{admonition} What is the difference between Jupyter and Colab?\n",
    "\n",
    "Jupyter is the open source project on which Colab is based. Colab allows you to use and share Jupyter notebooks with others without having to download, install, or run anything.\n",
    "```"
   ]
  },
  {
   "attachments": {},
   "cell_type": "markdown",
   "metadata": {},
   "source": [
    "## Git & GitHub "
   ]
  },
  {
   "attachments": {},
   "cell_type": "markdown",
   "metadata": {},
   "source": [
    "> _[Git](https://git-scm.com/) is a free and open source distributed version control system designed to handle everything from small to very large projects with speed and efficiency._\n",
    "\n",
    "> _[GitHub](https://github.com/) is a development platform inspired by the way you work. From open source to business, you can host and review code, manage projects, and build software alongside 30 million developers._\n",
    "\n",
    "Git allows you to keep track of every change made to your code and easily revert to a previous version if needed. Think of it like a \"time machine\" for your code.\n",
    "\n",
    "GitHub, on the other hand, is a website and platform that hosts Git repositories in the cloud. It provides an online space for developers to store and collaborate on their code projects, as well as to share their code with others. \n",
    "\n",
    "In summary, Git is a tool for version control, while GitHub is a platform that makes it easier to use Git for collaboration and sharing code.\n",
    "\n",
    "There are other alternatives to GitHub such as GitLab or BitBucket."
   ]
  },
  {
   "attachments": {},
   "cell_type": "markdown",
   "metadata": {},
   "source": [
    "`````{admonition} Fun fact\n",
    "Some of the paragraphs in this lesson were written by [ChatGPT3](https://openai.com/blog/chatgpt)! \n",
    "\n",
    "However, we checked the answers and some of them were modified a little bit.\n",
    "\n",
    "Can you guess which ones were written by this artificial intelligence?\n",
    "`````"
   ]
  }
 ],
 "metadata": {
  "kernelspec": {
   "display_name": "casbbi-nrt-ds",
   "language": "python",
   "name": "python3"
  },
  "language_info": {
   "codemirror_mode": {
    "name": "ipython",
    "version": 3
   },
   "file_extension": ".py",
   "mimetype": "text/x-python",
   "name": "python",
   "nbconvert_exporter": "python",
   "pygments_lexer": "ipython3",
   "version": "3.11.0"
  },
  "orig_nbformat": 4,
  "vscode": {
   "interpreter": {
    "hash": "aaa63b10875fd439d6e29c7af3cfc11b4f81a200a31b26fa6fffddaf9fa68644"
   }
  }
 },
 "nbformat": 4,
 "nbformat_minor": 2
}
