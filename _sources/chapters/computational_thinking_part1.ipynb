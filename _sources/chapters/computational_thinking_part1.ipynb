{
  "nbformat": 4,
  "nbformat_minor": 0,
  "metadata": {
    "colab": {
      "provenance": [],
      "collapsed_sections": []
    },
    "kernelspec": {
      "name": "python3",
      "display_name": "Python 3"
    },
    "language_info": {
      "name": "python"
    }
  },
  "cells": [
    {
      "cell_type": "markdown",
      "source": [
        "# Introduction to Computational Thinking"
      ],
      "metadata": {
        "id": "fWewux8sVsN5"
      }
    },
    {
      "cell_type": "code",
      "source": [
        "from math import *\n",
        "import numpy as np"
      ],
      "metadata": {
        "id": "ISn5_DbhVvDJ"
      },
      "execution_count": null,
      "outputs": []
    },
    {
      "cell_type": "code",
      "source": [
        "x_min = 0\n",
        "x_max = 1\n",
        "y_min = 0\n",
        "y_max = 1"
      ],
      "metadata": {
        "id": "33lw_B-VHWvH"
      },
      "execution_count": null,
      "outputs": []
    },
    {
      "cell_type": "code",
      "source": [
        "def f(x):\n",
        "  return sqrt(1 - x ** 2)"
      ],
      "metadata": {
        "id": "H3bmjgG6HbDs"
      },
      "execution_count": null,
      "outputs": []
    },
    {
      "cell_type": "code",
      "source": [
        "def monte_carlo(f, n):\n",
        "  area = (x_max - x_min)*(y_max - y_min)  # Area of the recangle\n",
        "  s = 0                                   # Success counter\n",
        "  for i in range(n):\n",
        "    rx = np.random.uniform(x_min, x_max)\n",
        "    ry = np.random.uniform(x_min, y_max)\n",
        "    if ry <= f(rx):\n",
        "      s += 1\n",
        "  return s * area/n"
      ],
      "metadata": {
        "id": "uj8tmxK4HgXl"
      },
      "execution_count": null,
      "outputs": []
    },
    {
      "cell_type": "code",
      "source": [
        "monte_carlo(f,10000)"
      ],
      "metadata": {
        "colab": {
          "base_uri": "https://localhost:8080/"
        },
        "id": "fE7k8VqZIy6T",
        "outputId": "80f935fd-eacc-4d97-c1df-7566e565f489"
      },
      "execution_count": null,
      "outputs": [
        {
          "output_type": "execute_result",
          "data": {
            "text/plain": [
              "0.7891"
            ]
          },
          "metadata": {},
          "execution_count": 7
        }
      ]
    }
  ]
}