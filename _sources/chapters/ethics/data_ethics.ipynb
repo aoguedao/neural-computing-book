{
 "cells": [
  {
   "attachments": {},
   "cell_type": "markdown",
   "metadata": {},
   "source": [
    "# Data Ethics"
   ]
  },
  {
   "attachments": {},
   "cell_type": "markdown",
   "metadata": {},
   "source": [
    "```{important}\n",
    "Not yet released\n",
    "```"
   ]
  }
 ],
 "metadata": {
  "kernelspec": {
   "display_name": "casbbi-nrt-ds",
   "language": "python",
   "name": "python3"
  },
  "language_info": {
   "name": "python",
   "version": "3.11.0"
  },
  "orig_nbformat": 4,
  "vscode": {
   "interpreter": {
    "hash": "aaa63b10875fd439d6e29c7af3cfc11b4f81a200a31b26fa6fffddaf9fa68644"
   }
  }
 },
 "nbformat": 4,
 "nbformat_minor": 2
}
