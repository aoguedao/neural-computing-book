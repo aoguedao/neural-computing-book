{
  "cells": [
    {
      "attachments": {},
      "cell_type": "markdown",
      "metadata": {
        "id": "fWewux8sVsN5"
      },
      "source": [
        "# Computational Thinking Foundations"
      ]
    },
    {
      "cell_type": "code",
      "execution_count": 1,
      "metadata": {
        "id": "ISn5_DbhVvDJ"
      },
      "outputs": [],
      "source": [
        "from math import *\n",
        "import numpy as np"
      ]
    },
    {
      "cell_type": "code",
      "execution_count": 2,
      "metadata": {
        "id": "33lw_B-VHWvH"
      },
      "outputs": [],
      "source": [
        "x_min = 0\n",
        "x_max = 1\n",
        "y_min = 0\n",
        "y_max = 1"
      ]
    },
    {
      "cell_type": "code",
      "execution_count": 3,
      "metadata": {
        "id": "H3bmjgG6HbDs"
      },
      "outputs": [],
      "source": [
        "def f(x):\n",
        "  return sqrt(1 - x ** 2)"
      ]
    },
    {
      "cell_type": "code",
      "execution_count": 4,
      "metadata": {
        "id": "uj8tmxK4HgXl"
      },
      "outputs": [],
      "source": [
        "def monte_carlo(f, n):\n",
        "  area = (x_max - x_min)*(y_max - y_min)  # Area of the recangle\n",
        "  s = 0                                   # Success counter\n",
        "  for i in range(n):\n",
        "    rx = np.random.uniform(x_min, x_max)\n",
        "    ry = np.random.uniform(x_min, y_max)\n",
        "    if ry <= f(rx):\n",
        "      s += 1\n",
        "  return s * area/n"
      ]
    },
    {
      "cell_type": "code",
      "execution_count": 5,
      "metadata": {
        "colab": {
          "base_uri": "https://localhost:8080/"
        },
        "id": "fE7k8VqZIy6T",
        "outputId": "80f935fd-eacc-4d97-c1df-7566e565f489"
      },
      "outputs": [
        {
          "data": {
            "text/plain": [
              "0.7834"
            ]
          },
          "execution_count": 5,
          "metadata": {},
          "output_type": "execute_result"
        }
      ],
      "source": [
        "monte_carlo(f,10000)"
      ]
    }
  ],
  "metadata": {
    "colab": {
      "collapsed_sections": [],
      "provenance": []
    },
    "kernelspec": {
      "display_name": "Python 3",
      "name": "python3"
    },
    "language_info": {
      "codemirror_mode": {
        "name": "ipython",
        "version": 3
      },
      "file_extension": ".py",
      "mimetype": "text/x-python",
      "name": "python",
      "nbconvert_exporter": "python",
      "pygments_lexer": "ipython3",
      "version": "3.10.9"
    }
  },
  "nbformat": 4,
  "nbformat_minor": 0
}
